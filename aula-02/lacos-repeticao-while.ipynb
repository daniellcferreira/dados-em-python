{
 "cells": [
  {
   "cell_type": "code",
   "execution_count": 3,
   "metadata": {},
   "outputs": [
    {
     "name": "stdout",
     "output_type": "stream",
     "text": [
      "1\n",
      "2\n",
      "3\n",
      "4\n",
      "5\n"
     ]
    }
   ],
   "source": [
    "# exemplo 1\n",
    "\n",
    "cont = 1\n",
    "\n",
    "while cont <= 5:\n",
    "    print(cont)\n",
    "    cont = cont + 1\n",
    "# ou cont += 1"
   ]
  },
  {
   "cell_type": "code",
   "execution_count": 4,
   "metadata": {},
   "outputs": [
    {
     "name": "stdout",
     "output_type": "stream",
     "text": [
      "O numero digitado foi 11.0\n"
     ]
    }
   ],
   "source": [
    "# exemplo 2\n",
    "\n",
    "num = float(input(\"Digite um numero maior do que 10: \"))\n",
    "\n",
    "while num <= 10:\n",
    "    num = float(input(\"Numero digitado foi menor que 10, Digite um numero maior do que 10: \"))\n",
    "\n",
    "print(\"O numero digitado foi\", num)"
   ]
  },
  {
   "cell_type": "code",
   "execution_count": 5,
   "metadata": {},
   "outputs": [
    {
     "name": "stdout",
     "output_type": "stream",
     "text": [
      "O numero digitado foi 8.0\n"
     ]
    }
   ],
   "source": [
    "# exemplo 3\n",
    "\n",
    "num = float(input(\"Digite um numero entre 0 e 10: \"))\n",
    "\n",
    "while num > 10 or num < 0:\n",
    "    num = float(input(\"Numero digitado não está entre 0 e 10, Digite um numero entre 0 e 10: \"))\n",
    "\n",
    "print(\"O numero digitado foi\", num)\n"
   ]
  },
  {
   "cell_type": "code",
   "execution_count": null,
   "metadata": {},
   "outputs": [],
   "source": [
    "# exemplo 4\n",
    "\n",
    "# exemplo 3\n",
    "\n",
    "num = float(input(\"Digite um numero entre 0 e 10: \"))\n",
    "\n",
    "while not(0 < num < 10):\n",
    "    num = float(input(\"Numero digitado não está entre 0 e 10, Digite um numero entre 0 e 10: \"))\n",
    "\n",
    "print(\"O numero digitado foi\", num)"
   ]
  },
  {
   "cell_type": "code",
   "execution_count": null,
   "metadata": {},
   "outputs": [],
   "source": []
  }
 ],
 "metadata": {
  "kernelspec": {
   "display_name": "Python 3",
   "language": "python",
   "name": "python3"
  },
  "language_info": {
   "codemirror_mode": {
    "name": "ipython",
    "version": 3
   },
   "file_extension": ".py",
   "mimetype": "text/x-python",
   "name": "python",
   "nbconvert_exporter": "python",
   "pygments_lexer": "ipython3",
   "version": "3.12.2"
  }
 },
 "nbformat": 4,
 "nbformat_minor": 2
}
