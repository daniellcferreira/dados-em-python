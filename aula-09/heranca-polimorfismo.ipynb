{
 "cells": [
  {
   "cell_type": "code",
   "execution_count": 1,
   "metadata": {},
   "outputs": [
    {
     "name": "stdout",
     "output_type": "stream",
     "text": [
      "Leão está fazendo um barulho!\n"
     ]
    }
   ],
   "source": [
    "# Exemplo 1\n",
    "\n",
    "class Animal:\n",
    "\n",
    "    def __init__(self, nome):\n",
    "        self.nome = nome\n",
    "\n",
    "    def fala(self):\n",
    "        print(f\"{self.nome} está fazendo um barulho!\")\n",
    "\n",
    "a1 = Animal(\"Leão\")\n",
    "\n",
    "a1.fala()"
   ]
  },
  {
   "cell_type": "code",
   "execution_count": 4,
   "metadata": {},
   "outputs": [
    {
     "name": "stdout",
     "output_type": "stream",
     "text": [
      "Ted está latindo!\n"
     ]
    }
   ],
   "source": [
    "class Cachorro(Animal):\n",
    "\n",
    "    def fala(self):\n",
    "        print(f\"{self.nome} está latindo!\")\n",
    "        \n",
    "c1 = Cachorro(\"Ted\")\n",
    "\n",
    "c1.fala()"
   ]
  },
  {
   "cell_type": "code",
   "execution_count": 5,
   "metadata": {},
   "outputs": [
    {
     "name": "stdout",
     "output_type": "stream",
     "text": [
      "Fred está fazendo um barulho!\n",
      "Fred está latindo!\n"
     ]
    }
   ],
   "source": [
    "class Cachorro(Animal):\n",
    "\n",
    "    def __init__(self, nome, raca, cor):\n",
    "        super().__init__(nome)\n",
    "\n",
    "        self.ra = raca\n",
    "        self.co = cor\n",
    "\n",
    "    def fala(self):\n",
    "        super().fala()\n",
    "\n",
    "        print(f\"{self.nome} está latindo!\")\n",
    "\n",
    "c2 = Cachorro(\"Fred\", \"Vira-Lata\", \"Preto\")\n",
    "\n",
    "c2.fala()"
   ]
  },
  {
   "cell_type": "code",
   "execution_count": 8,
   "metadata": {},
   "outputs": [
    {
     "data": {
      "text/plain": [
       "True"
      ]
     },
     "execution_count": 8,
     "metadata": {},
     "output_type": "execute_result"
    }
   ],
   "source": [
    "# Polimorfismo\n",
    "\n",
    "\n",
    "class Animal:\n",
    "\n",
    "    def __init__(self, nome):\n",
    "        self.nome = nome\n",
    "\n",
    "    def fala(self):\n",
    "        print(f\"{self.nome} está fazendo um barulho!\")\n",
    "\n",
    "\n",
    "class Gato(Animal):\n",
    "\n",
    "    def fala(self):\n",
    "        print(f\"{self.nome} está miando!\")\n",
    "\n",
    "class Cachorro(Animal):\n",
    "\n",
    "    def fala(self):\n",
    "        print(f\"{self.nome} está latindo!\")\n",
    "\n",
    "\n",
    "g2 = Gato(\"Rud\")\n",
    "c2 = Cachorro(\"Any\")\n",
    "\n",
    "isinstance(g2, Gato)\n",
    "\n",
    "isinstance(c2, Cachorro)\n",
    "\n",
    "isinstance(g2, Animal)"
   ]
  }
 ],
 "metadata": {
  "kernelspec": {
   "display_name": "Python 3",
   "language": "python",
   "name": "python3"
  },
  "language_info": {
   "codemirror_mode": {
    "name": "ipython",
    "version": 3
   },
   "file_extension": ".py",
   "mimetype": "text/x-python",
   "name": "python",
   "nbconvert_exporter": "python",
   "pygments_lexer": "ipython3",
   "version": "3.12.2"
  }
 },
 "nbformat": 4,
 "nbformat_minor": 2
}
