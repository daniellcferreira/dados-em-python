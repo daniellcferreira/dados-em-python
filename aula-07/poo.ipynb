{
 "cells": [
  {
   "cell_type": "code",
   "execution_count": 11,
   "metadata": {},
   "outputs": [
    {
     "data": {
      "text/plain": [
       "26"
      ]
     },
     "execution_count": 11,
     "metadata": {},
     "output_type": "execute_result"
    }
   ],
   "source": [
    "# Criando Classes\n",
    "\n",
    "class Pessoa: \n",
    "\n",
    "    def __init__(self, name, age, res):   # Metodo Construtor\n",
    "\n",
    "        self.nome = name                  # Atributos\n",
    "        self.idade = age\n",
    "        self.residencia = res\n",
    "\n",
    "        self.num_filhos = 0\n",
    "        self.profissao = None\n",
    "\n",
    "funcionario = Pessoa(\"João\", 25, \"SP\")  # Instanciando a classe  \n",
    "\n",
    "funcionario.idade += 1\n",
    "\n",
    "funcionario.idade"
   ]
  },
  {
   "cell_type": "code",
   "execution_count": 12,
   "metadata": {},
   "outputs": [
    {
     "data": {
      "text/plain": [
       "{'nome': 'João',\n",
       " 'idade': 26,\n",
       " 'residencia': 'SP',\n",
       " 'num_filhos': 0,\n",
       " 'profissao': None}"
      ]
     },
     "execution_count": 12,
     "metadata": {},
     "output_type": "execute_result"
    }
   ],
   "source": [
    "vars(funcionario)"
   ]
  },
  {
   "cell_type": "code",
   "execution_count": 20,
   "metadata": {},
   "outputs": [],
   "source": [
    "# Definindo Metodos na Classe\n",
    "\n",
    "class Pessoa: \n",
    "\n",
    "    def __init__(self, name, age, res):  \n",
    "\n",
    "        self.nome = name                  \n",
    "        self.idade = age\n",
    "        self.residencia = res\n",
    "\n",
    "        self.num_filhos = 0\n",
    "        self.profissao = None\n",
    "\n",
    "    def fala(self, mensagem):\n",
    "        print(f\"{self.nome} diz: '{mensagem}'\")\n",
    "\n",
    "    def consegue_emprego(self, prof):\n",
    "        self.profissao = prof\n",
    "        "
   ]
  },
  {
   "cell_type": "code",
   "execution_count": 22,
   "metadata": {},
   "outputs": [
    {
     "name": "stdout",
     "output_type": "stream",
     "text": [
      "Pedro diz: 'Olá, tudo bem?'\n"
     ]
    },
    {
     "data": {
      "text/plain": [
       "{'nome': 'Pedro',\n",
       " 'idade': 36,\n",
       " 'residencia': 'Rio',\n",
       " 'num_filhos': 0,\n",
       " 'profissao': 'Cientista de Dados'}"
      ]
     },
     "execution_count": 22,
     "metadata": {},
     "output_type": "execute_result"
    }
   ],
   "source": [
    "Pedro = Pessoa(name=\"Pedro\", age=36, res=\"Rio\")\n",
    "\n",
    "Pedro.fala(\"Olá, tudo bem?\")\n",
    "\n",
    "Pedro.consegue_emprego(\"Cientista de Dados\")\n",
    "\n",
    "vars(Pedro)"
   ]
  }
 ],
 "metadata": {
  "kernelspec": {
   "display_name": "Python 3",
   "language": "python",
   "name": "python3"
  },
  "language_info": {
   "codemirror_mode": {
    "name": "ipython",
    "version": 3
   },
   "file_extension": ".py",
   "mimetype": "text/x-python",
   "name": "python",
   "nbconvert_exporter": "python",
   "pygments_lexer": "ipython3",
   "version": "3.12.2"
  }
 },
 "nbformat": 4,
 "nbformat_minor": 2
}
