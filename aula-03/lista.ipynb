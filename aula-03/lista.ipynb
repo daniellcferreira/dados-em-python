{
 "cells": [
  {
   "cell_type": "code",
   "execution_count": 1,
   "metadata": {},
   "outputs": [
    {
     "data": {
      "text/plain": [
       "list"
      ]
     },
     "execution_count": 1,
     "metadata": {},
     "output_type": "execute_result"
    }
   ],
   "source": [
    "# lista de numeros (int e float)\n",
    "\n",
    "numero = [2, 5, 4.2, -6]\n",
    "\n",
    "type(numero)\n"
   ]
  },
  {
   "cell_type": "code",
   "execution_count": 2,
   "metadata": {},
   "outputs": [],
   "source": [
    "# lista de strings\n",
    "\n",
    "lista = [\"Daniel\", \"Ada\", \"Python\"]"
   ]
  },
  {
   "cell_type": "code",
   "execution_count": null,
   "metadata": {},
   "outputs": [],
   "source": [
    "# lista de listas\n",
    "\n",
    "lista2 = [10, [\"ada\", \"python\"], True]"
   ]
  },
  {
   "cell_type": "code",
   "execution_count": 8,
   "metadata": {},
   "outputs": [
    {
     "data": {
      "text/plain": [
       "'ada'"
      ]
     },
     "execution_count": 8,
     "metadata": {},
     "output_type": "execute_result"
    }
   ],
   "source": [
    "# indexação de lista e fatiamento\n",
    "\n",
    "lista3 = [\"a\", \"b\", \"c\", 42, 5, 7, [True, \"ada\"], 3.14]\n",
    "\n",
    "# lista3[5]\n",
    "\n",
    "# lista3[1:4]\n",
    "\n",
    "# lista3[:5]\n",
    "\n",
    "# lista3[4:]\n",
    "\n",
    "lista3[6][1]"
   ]
  },
  {
   "cell_type": "code",
   "execution_count": 14,
   "metadata": {},
   "outputs": [
    {
     "data": {
      "text/plain": [
       "[5, True]"
      ]
     },
     "execution_count": 14,
     "metadata": {},
     "output_type": "execute_result"
    }
   ],
   "source": [
    "# funções de lista\n",
    "\n",
    "lista = []\n",
    "\n",
    "lista.append(5) # adicionar elementos a lista \n",
    "lista.append(10)\n",
    "lista.append(\"ada\")\n",
    "\n",
    "lista.insert(2, True) # adiciona elementos na posição especifica\n",
    "\n",
    "lista[3] = \"curso\" # redefine valor do elemento\n",
    "\n",
    "lista.remove(10) # remove elemento da lista (apanas a primeira aparição do elemento)\n",
    "\n",
    "lista.pop(2) # remove o elemento atraves de seu indice\n",
    " \n",
    "lista"
   ]
  },
  {
   "cell_type": "code",
   "execution_count": 18,
   "metadata": {},
   "outputs": [
    {
     "data": {
      "text/plain": [
       "3.5566666666666666"
      ]
     },
     "execution_count": 18,
     "metadata": {},
     "output_type": "execute_result"
    }
   ],
   "source": [
    "lista_num = [10, 2, -6, 4.2, 8, 3.14]\n",
    "\n",
    "sorted(lista_num)  # ordena os numero em forma crescente\n",
    "\n",
    "len(lista_num) # exibe o comprimento da lista\n",
    "\n",
    "sum(lista_num)/len(lista_num) # media da lista"
   ]
  },
  {
   "cell_type": "code",
   "execution_count": 16,
   "metadata": {},
   "outputs": [
    {
     "data": {
      "text/plain": [
       "['arroz', 'limao', 'refrigerante']"
      ]
     },
     "execution_count": 16,
     "metadata": {},
     "output_type": "execute_result"
    }
   ],
   "source": [
    "lista_string = [\"limao\", \"arroz\", \"refrigerante\"]\n",
    "\n",
    "sorted(lista_string)"
   ]
  },
  {
   "cell_type": "code",
   "execution_count": 19,
   "metadata": {},
   "outputs": [
    {
     "data": {
      "text/plain": [
       "7.375"
      ]
     },
     "execution_count": 19,
     "metadata": {},
     "output_type": "execute_result"
    }
   ],
   "source": [
    "# exemplo 1\n",
    "\n",
    "notas = [8, 10, 6.5, 5]\n",
    "\n",
    "media = sum(notas) / len(notas)\n",
    "\n",
    "media"
   ]
  },
  {
   "cell_type": "code",
   "execution_count": 22,
   "metadata": {},
   "outputs": [
    {
     "name": "stdout",
     "output_type": "stream",
     "text": [
      "\n",
      "As notas digitas foram [10.0, 7.0, 3.0] e a media é: 6.666666666666667\n"
     ]
    }
   ],
   "source": [
    "# exemplo 2\n",
    "\n",
    "num_notas = int(input(\"Digite o numero de notas: \"))\n",
    "\n",
    "notas = []\n",
    "\n",
    "cont = 1\n",
    "\n",
    "while cont <= num_notas:\n",
    "    nota_atual = float(input(\"Digite a nota: \"))\n",
    "\n",
    "    cont = cont + 1\n",
    "    \n",
    "    notas.append(nota_atual)\n",
    "\n",
    "media = sum(notas) / len(notas)\n",
    "\n",
    "print(\"\\nAs notas digitas foram\", notas, \"e a media é:\", media)"
   ]
  }
 ],
 "metadata": {
  "kernelspec": {
   "display_name": "Python 3",
   "language": "python",
   "name": "python3"
  },
  "language_info": {
   "codemirror_mode": {
    "name": "ipython",
    "version": 3
   },
   "file_extension": ".py",
   "mimetype": "text/x-python",
   "name": "python",
   "nbconvert_exporter": "python",
   "pygments_lexer": "ipython3",
   "version": "3.12.2"
  }
 },
 "nbformat": 4,
 "nbformat_minor": 2
}
