{
 "cells": [
  {
   "cell_type": "code",
   "execution_count": 2,
   "metadata": {},
   "outputs": [
    {
     "name": "stdout",
     "output_type": "stream",
     "text": [
      "20\n",
      "1\n",
      "-5\n",
      "6.1\n",
      "7\n",
      "3.14\n",
      "-6\n"
     ]
    }
   ],
   "source": [
    "lista_num = [20, 1, -5, 6.1, 7, 3.14, -6]\n",
    "\n",
    "for elemento in lista_num:\n",
    "    print(elemento)"
   ]
  },
  {
   "cell_type": "code",
   "execution_count": 3,
   "metadata": {},
   "outputs": [
    {
     "name": "stdout",
     "output_type": "stream",
     "text": [
      "[20, 1, 6.1, 7, 3.14]\n",
      "[-5, -6]\n"
     ]
    }
   ],
   "source": [
    "lista_num1 = [20, 1, -5, 6.1, 7, 3.14, -6]\n",
    "\n",
    "lista_pos = []\n",
    "lista_neg = []\n",
    "\n",
    "for elemento in lista_num:\n",
    "    if elemento < 0:\n",
    "        lista_neg.append(elemento)\n",
    "    else:\n",
    "        lista_pos.append(elemento)\n",
    "\n",
    "print(lista_pos)\n",
    "print(lista_neg)"
   ]
  },
  {
   "cell_type": "code",
   "execution_count": 4,
   "metadata": {},
   "outputs": [
    {
     "name": "stdout",
     "output_type": "stream",
     "text": [
      "-20\n",
      "-1\n",
      "-5\n"
     ]
    }
   ],
   "source": [
    "lista_num2 = [-20, -1, -5, 6.1, 7, 3.14, -6]\n",
    "\n",
    "for elemento in lista_num2:\n",
    "    if elemento > 0:\n",
    "        break\n",
    "    \n",
    "    print(elemento)"
   ]
  },
  {
   "cell_type": "code",
   "execution_count": 6,
   "metadata": {},
   "outputs": [
    {
     "name": "stdout",
     "output_type": "stream",
     "text": [
      "[40, 2, -10, 12.2, 14, 6.28, -12]\n"
     ]
    }
   ],
   "source": [
    "lista_num3 = [20, 1, -5, 6.1, 7, 3.14, -6]\n",
    "\n",
    "lista_dobro = []\n",
    "\n",
    "for elemento in lista_num3:\n",
    "    lista_dobro.append(elemento * 2)\n",
    "\n",
    "print(lista_dobro)"
   ]
  },
  {
   "cell_type": "code",
   "execution_count": 7,
   "metadata": {},
   "outputs": [
    {
     "data": {
      "text/plain": [
       "['par', 'impar', 'impar', 'impar', 'impar', 'par', 'par', 'par', 'impar']"
      ]
     },
     "execution_count": 7,
     "metadata": {},
     "output_type": "execute_result"
    }
   ],
   "source": [
    "lista = [4, 7, 13, 15, 1, 8, 16, 20 ,3]\n",
    "\n",
    "lista_par_impar = []\n",
    "\n",
    "for elemento in lista:\n",
    "    if elemento % 2 == 0:\n",
    "        lista_par_impar.append(\"par\")\n",
    "    else:\n",
    "        lista_par_impar.append(\"impar\")\n",
    "\n",
    "lista_par_impar\n"
   ]
  }
 ],
 "metadata": {
  "kernelspec": {
   "display_name": "Python 3",
   "language": "python",
   "name": "python3"
  },
  "language_info": {
   "codemirror_mode": {
    "name": "ipython",
    "version": 3
   },
   "file_extension": ".py",
   "mimetype": "text/x-python",
   "name": "python",
   "nbconvert_exporter": "python",
   "pygments_lexer": "ipython3",
   "version": "3.12.2"
  }
 },
 "nbformat": 4,
 "nbformat_minor": 2
}
