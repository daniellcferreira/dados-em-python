{
 "cells": [
  {
   "cell_type": "code",
   "execution_count": 1,
   "metadata": {},
   "outputs": [],
   "source": [
    "import numpy as np\n",
    "import pandas as pd\n",
    "\n",
    "import matplotlib.pyplot as plt\n",
    "import seaborn as sns\n",
    "\n",
    "import scipy"
   ]
  },
  {
   "cell_type": "code",
   "execution_count": 2,
   "metadata": {},
   "outputs": [
    {
     "data": {
      "text/html": [
       "<div>\n",
       "<style scoped>\n",
       "    .dataframe tbody tr th:only-of-type {\n",
       "        vertical-align: middle;\n",
       "    }\n",
       "\n",
       "    .dataframe tbody tr th {\n",
       "        vertical-align: top;\n",
       "    }\n",
       "\n",
       "    .dataframe thead th {\n",
       "        text-align: right;\n",
       "    }\n",
       "</style>\n",
       "<table border=\"1\" class=\"dataframe\">\n",
       "  <thead>\n",
       "    <tr style=\"text-align: right;\">\n",
       "      <th></th>\n",
       "      <th>sexo</th>\n",
       "      <th>altura</th>\n",
       "      <th>peso</th>\n",
       "    </tr>\n",
       "  </thead>\n",
       "  <tbody>\n",
       "    <tr>\n",
       "      <th>0</th>\n",
       "      <td>M</td>\n",
       "      <td>187.57</td>\n",
       "      <td>109.72</td>\n",
       "    </tr>\n",
       "    <tr>\n",
       "      <th>1</th>\n",
       "      <td>M</td>\n",
       "      <td>174.71</td>\n",
       "      <td>73.62</td>\n",
       "    </tr>\n",
       "    <tr>\n",
       "      <th>2</th>\n",
       "      <td>M</td>\n",
       "      <td>188.24</td>\n",
       "      <td>96.50</td>\n",
       "    </tr>\n",
       "    <tr>\n",
       "      <th>3</th>\n",
       "      <td>M</td>\n",
       "      <td>182.20</td>\n",
       "      <td>99.81</td>\n",
       "    </tr>\n",
       "    <tr>\n",
       "      <th>4</th>\n",
       "      <td>M</td>\n",
       "      <td>177.50</td>\n",
       "      <td>93.60</td>\n",
       "    </tr>\n",
       "    <tr>\n",
       "      <th>...</th>\n",
       "      <td>...</td>\n",
       "      <td>...</td>\n",
       "      <td>...</td>\n",
       "    </tr>\n",
       "    <tr>\n",
       "      <th>9995</th>\n",
       "      <td>F</td>\n",
       "      <td>168.08</td>\n",
       "      <td>62.04</td>\n",
       "    </tr>\n",
       "    <tr>\n",
       "      <th>9996</th>\n",
       "      <td>F</td>\n",
       "      <td>170.35</td>\n",
       "      <td>77.51</td>\n",
       "    </tr>\n",
       "    <tr>\n",
       "      <th>9997</th>\n",
       "      <td>F</td>\n",
       "      <td>162.22</td>\n",
       "      <td>58.28</td>\n",
       "    </tr>\n",
       "    <tr>\n",
       "      <th>9998</th>\n",
       "      <td>F</td>\n",
       "      <td>175.35</td>\n",
       "      <td>74.32</td>\n",
       "    </tr>\n",
       "    <tr>\n",
       "      <th>9999</th>\n",
       "      <td>F</td>\n",
       "      <td>157.34</td>\n",
       "      <td>51.55</td>\n",
       "    </tr>\n",
       "  </tbody>\n",
       "</table>\n",
       "<p>10000 rows × 3 columns</p>\n",
       "</div>"
      ],
      "text/plain": [
       "     sexo  altura    peso\n",
       "0       M  187.57  109.72\n",
       "1       M  174.71   73.62\n",
       "2       M  188.24   96.50\n",
       "3       M  182.20   99.81\n",
       "4       M  177.50   93.60\n",
       "...   ...     ...     ...\n",
       "9995    F  168.08   62.04\n",
       "9996    F  170.35   77.51\n",
       "9997    F  162.22   58.28\n",
       "9998    F  175.35   74.32\n",
       "9999    F  157.34   51.55\n",
       "\n",
       "[10000 rows x 3 columns]"
      ]
     },
     "execution_count": 2,
     "metadata": {},
     "output_type": "execute_result"
    }
   ],
   "source": [
    "df = pd.read_csv(\"alturas_pesos.csv\")\n",
    "\n",
    "df"
   ]
  },
  {
   "cell_type": "code",
   "execution_count": 3,
   "metadata": {},
   "outputs": [
    {
     "data": {
      "text/html": [
       "<div>\n",
       "<style scoped>\n",
       "    .dataframe tbody tr th:only-of-type {\n",
       "        vertical-align: middle;\n",
       "    }\n",
       "\n",
       "    .dataframe tbody tr th {\n",
       "        vertical-align: top;\n",
       "    }\n",
       "\n",
       "    .dataframe thead th {\n",
       "        text-align: right;\n",
       "    }\n",
       "</style>\n",
       "<table border=\"1\" class=\"dataframe\">\n",
       "  <thead>\n",
       "    <tr style=\"text-align: right;\">\n",
       "      <th></th>\n",
       "      <th>altura</th>\n",
       "      <th>peso</th>\n",
       "    </tr>\n",
       "    <tr>\n",
       "      <th>sexo</th>\n",
       "      <th></th>\n",
       "      <th></th>\n",
       "    </tr>\n",
       "  </thead>\n",
       "  <tbody>\n",
       "    <tr>\n",
       "      <th>F</th>\n",
       "      <td>161.820188</td>\n",
       "      <td>61.625692</td>\n",
       "    </tr>\n",
       "    <tr>\n",
       "      <th>M</th>\n",
       "      <td>175.326958</td>\n",
       "      <td>84.832028</td>\n",
       "    </tr>\n",
       "  </tbody>\n",
       "</table>\n",
       "</div>"
      ],
      "text/plain": [
       "          altura       peso\n",
       "sexo                       \n",
       "F     161.820188  61.625692\n",
       "M     175.326958  84.832028"
      ]
     },
     "execution_count": 3,
     "metadata": {},
     "output_type": "execute_result"
    }
   ],
   "source": [
    "df.groupby(\"sexo\")[[\"altura\", \"peso\"]].mean()  # estimador pontual"
   ]
  },
  {
   "cell_type": "code",
   "execution_count": 4,
   "metadata": {},
   "outputs": [
    {
     "data": {
      "text/plain": [
       "0.024997895148220435"
      ]
     },
     "execution_count": 4,
     "metadata": {},
     "output_type": "execute_result"
    }
   ],
   "source": [
    "# intervalos de confiança\n",
    "\n",
    "scipy.stats.norm.cdf(-1.96)"
   ]
  },
  {
   "cell_type": "code",
   "execution_count": 5,
   "metadata": {},
   "outputs": [
    {
     "data": {
      "text/plain": [
       "0.9750021048517795"
      ]
     },
     "execution_count": 5,
     "metadata": {},
     "output_type": "execute_result"
    }
   ],
   "source": [
    "scipy.stats.norm.cdf(1.96)  "
   ]
  },
  {
   "cell_type": "code",
   "execution_count": 6,
   "metadata": {},
   "outputs": [
    {
     "data": {
      "text/plain": [
       "0.950004209703559"
      ]
     },
     "execution_count": 6,
     "metadata": {},
     "output_type": "execute_result"
    }
   ],
   "source": [
    "scipy.stats.norm.cdf(1.96)-scipy.stats.norm.cdf(-1.96)"
   ]
  },
  {
   "cell_type": "code",
   "execution_count": 7,
   "metadata": {},
   "outputs": [
    {
     "data": {
      "text/plain": [
       "1.959963984540054"
      ]
     },
     "execution_count": 7,
     "metadata": {},
     "output_type": "execute_result"
    }
   ],
   "source": [
    "conf = 0.95\n",
    "sig = 1 - conf\n",
    "\n",
    "scipy.stats.norm.ppf(conf + sig/2)  # z score (desvio padrao)"
   ]
  },
  {
   "cell_type": "code",
   "execution_count": 8,
   "metadata": {},
   "outputs": [
    {
     "data": {
      "text/plain": [
       "0.848"
      ]
     },
     "execution_count": 8,
     "metadata": {},
     "output_type": "execute_result"
    }
   ],
   "source": [
    "# exemplo 1\n",
    "\n",
    "n = 1000\n",
    "n_favor = 848\n",
    "\n",
    "p_hat = n_favor / n\n",
    "\n",
    "p_hat"
   ]
  },
  {
   "cell_type": "code",
   "execution_count": 9,
   "metadata": {},
   "outputs": [
    {
     "data": {
      "text/plain": [
       "(0.8257480635415209, 0.8702519364584791)"
      ]
     },
     "execution_count": 9,
     "metadata": {},
     "output_type": "execute_result"
    }
   ],
   "source": [
    "conf = 0.95\n",
    "sig = 1 - conf\n",
    "\n",
    "z_a2 = scipy.stats.norm.ppf(conf + sig/2)\n",
    "\n",
    "SE = np.sqrt((p_hat*(1-p_hat))/n)\n",
    "\n",
    "ME = z_a2*SE\n",
    "\n",
    "IC = (p_hat - ME, p_hat + ME)\n",
    "\n",
    "IC"
   ]
  },
  {
   "cell_type": "code",
   "execution_count": 10,
   "metadata": {},
   "outputs": [
    {
     "data": {
      "text/plain": [
       "(0.8257480635415209, 0.8702519364584791)"
      ]
     },
     "execution_count": 10,
     "metadata": {},
     "output_type": "execute_result"
    }
   ],
   "source": [
    "IC = scipy.stats.norm.interval(conf, loc=p_hat, scale=SE)\n",
    "\n",
    "IC"
   ]
  },
  {
   "cell_type": "code",
   "execution_count": 11,
   "metadata": {},
   "outputs": [
    {
     "name": "stdout",
     "output_type": "stream",
     "text": [
      "Temos 95% de confiança que a proporção populacional das pessoas que são a favor da energia eólica está entre 82.57% e 87.03%\n"
     ]
    }
   ],
   "source": [
    "print(f\"Temos 95% de confiança que a proporção populacional das pessoas que são a favor da energia eólica está entre {IC[0]:.2%} e {IC[1]:.2%}\")"
   ]
  },
  {
   "cell_type": "code",
   "execution_count": 12,
   "metadata": {},
   "outputs": [
    {
     "name": "stdout",
     "output_type": "stream",
     "text": [
      "Temos 99% de confiança que a proporção populacional das pessoas que são a favor da energia eólica está entre 81.88% e 87.72%\n"
     ]
    }
   ],
   "source": [
    "# mudando confiança para 99% mantendo o mesmo n\n",
    "\n",
    "conf = 0.99\n",
    "\n",
    "p_hat = n_favor / n\n",
    "\n",
    "SE = np.sqrt((p_hat*(1-p_hat))/n)\n",
    "\n",
    "IC = scipy.stats.norm.interval(conf, loc=p_hat, scale=SE)\n",
    "\n",
    "print(f\"Temos {conf:.0%} de confiança que a proporção populacional das pessoas que são a favor da energia eólica está entre {IC[0]:.2%} e {IC[1]:.2%}\")"
   ]
  },
  {
   "cell_type": "code",
   "execution_count": 13,
   "metadata": {},
   "outputs": [
    {
     "name": "stdout",
     "output_type": "stream",
     "text": [
      "Temos 95% de confiança que a proporção populacional das pessoas que são a favor da energia eólica está entre 84.10% e 85.50%\n"
     ]
    }
   ],
   "source": [
    "# mantendo confiaça de 95% mas aumentando o n\n",
    "\n",
    "\n",
    "conf = 0.95\n",
    "\n",
    "n = 10000\n",
    "n_favor = 8480\n",
    "\n",
    "p_hat = n_favor / n\n",
    "\n",
    "SE = np.sqrt((p_hat*(1-p_hat))/n)\n",
    "\n",
    "IC = scipy.stats.norm.interval(conf, loc=p_hat, scale=SE)\n",
    "\n",
    "print(f\"Temos {conf:.0%} de confiança que a proporção populacional das pessoas que são a favor da energia eólica está entre {IC[0]:.2%} e {IC[1]:.2%}\")"
   ]
  },
  {
   "cell_type": "code",
   "execution_count": 16,
   "metadata": {},
   "outputs": [
    {
     "data": {
      "text/plain": [
       "161.820188"
      ]
     },
     "execution_count": 16,
     "metadata": {},
     "output_type": "execute_result"
    }
   ],
   "source": [
    "# exemplo 2\n",
    "\n",
    "df.query(\"sexo == 'F'\")[\"altura\"].mean()"
   ]
  },
  {
   "cell_type": "code",
   "execution_count": 18,
   "metadata": {},
   "outputs": [
    {
     "data": {
      "text/plain": [
       "5000"
      ]
     },
     "execution_count": 18,
     "metadata": {},
     "output_type": "execute_result"
    }
   ],
   "source": [
    "n = df.query(\"sexo == 'F'\").shape[0]\n",
    "\n",
    "n"
   ]
  },
  {
   "cell_type": "code",
   "execution_count": 20,
   "metadata": {},
   "outputs": [
    {
     "name": "stdout",
     "output_type": "stream",
     "text": [
      "Temos 90% de confiança que a altura media das mulheres da cidade está entre 161.66 e 161.98\n",
      "\n",
      "Temos 95% de confiança que a altura media das mulheres da cidade está entre 161.63 e 162.01\n",
      "\n",
      "Temos 99% de confiança que a altura media das mulheres da cidade está entre 161.57 e 162.07\n",
      "\n"
     ]
    }
   ],
   "source": [
    "x_barra = df.query(\"sexo == 'F'\")[\"altura\"].mean()\n",
    "\n",
    "sigma = df.query(\"sexo == 'F'\")[\"altura\"].std()\n",
    "\n",
    "SE = sigma/np.sqrt(n)\n",
    "\n",
    "for conf in [0.9, 0.95, 0.99]:\n",
    "\n",
    "    IC = scipy.stats.norm.interval(conf, loc=x_barra, scale=SE)\n",
    "\n",
    "    print(f\"Temos {conf:.0%} de confiança que a altura media das mulheres da cidade está entre {IC[0]:.2f} e {IC[1]:.2f}\\n\")"
   ]
  }
 ],
 "metadata": {
  "kernelspec": {
   "display_name": "Python 3",
   "language": "python",
   "name": "python3"
  },
  "language_info": {
   "codemirror_mode": {
    "name": "ipython",
    "version": 3
   },
   "file_extension": ".py",
   "mimetype": "text/x-python",
   "name": "python",
   "nbconvert_exporter": "python",
   "pygments_lexer": "ipython3",
   "version": "3.12.2"
  }
 },
 "nbformat": 4,
 "nbformat_minor": 2
}
