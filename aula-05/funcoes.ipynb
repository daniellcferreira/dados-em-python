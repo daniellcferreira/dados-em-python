{
 "cells": [
  {
   "cell_type": "code",
   "execution_count": 1,
   "metadata": {},
   "outputs": [
    {
     "name": "stdout",
     "output_type": "stream",
     "text": [
      "Bem vindo!\n"
     ]
    }
   ],
   "source": [
    "# função sem argumento e sem retorno\n",
    "\n",
    "def saudacao():\n",
    "    print(\"Bem vindo!\")\n",
    "\n",
    "saudacao()"
   ]
  },
  {
   "cell_type": "code",
   "execution_count": 3,
   "metadata": {},
   "outputs": [
    {
     "name": "stdout",
     "output_type": "stream",
     "text": [
      "Ola Daniel, que bom te ver!\n"
     ]
    }
   ],
   "source": [
    "# função com argumento e sem retorno\n",
    "\n",
    "def saudacao1(nome):\n",
    "    print(f\"Ola {nome}, que bom te ver!\")\n",
    "\n",
    "saudacao1(\"Daniel\")"
   ]
  },
  {
   "cell_type": "code",
   "execution_count": 10,
   "metadata": {},
   "outputs": [
    {
     "data": {
      "text/plain": [
       "'Boa noite!, ana'"
      ]
     },
     "execution_count": 10,
     "metadata": {},
     "output_type": "execute_result"
    }
   ],
   "source": [
    "# função com dois argumentos e sem retorno\n",
    "\n",
    "def cumprimenta_parte_do_dia(nome, parte_do_dia):\n",
    "    '''\n",
    "    função que recebe nome e parte do dia e imprime na uma saudação de acordo com os argumentos informados\n",
    "\n",
    "    - nome(string): qualquer nome;\n",
    "    - parte_do_dia(string): unicamente as opções[\"manha\", \"tarde\", \"noite\"]\n",
    "    '''\n",
    "\n",
    "    if parte_do_dia == \"manha\":\n",
    "        cumprimento = \"Bom dia!\"\n",
    "    elif parte_do_dia == \"tarde\":\n",
    "        cumprimento = \"Boa tarde\"\n",
    "    elif parte_do_dia == \"noite\":\n",
    "        cumprimento = \"Boa noite!\"\n",
    "    else:\n",
    "        raise ValueError(f\"A parte do dia informada ({parte_do_dia}) não é valida!\")\n",
    "    \n",
    "    cumprimento = f\"{cumprimento}, {nome}\"\n",
    "\n",
    "    print(cumprimento)\n",
    "\n",
    "cumprimenta_parte_do_dia(\"ana\", \"noite\")"
   ]
  },
  {
   "cell_type": "code",
   "execution_count": 12,
   "metadata": {},
   "outputs": [
    {
     "data": {
      "text/plain": [
       "5"
      ]
     },
     "execution_count": 12,
     "metadata": {},
     "output_type": "execute_result"
    }
   ],
   "source": [
    "# função com retorno\n",
    "\n",
    "def somar(n1, n2):\n",
    "    soma = n1 + n2\n",
    "\n",
    "    return soma\n",
    "\n",
    "somar(2, 3)\n"
   ]
  },
  {
   "cell_type": "code",
   "execution_count": 13,
   "metadata": {},
   "outputs": [
    {
     "data": {
      "text/plain": [
       "-4"
      ]
     },
     "execution_count": 13,
     "metadata": {},
     "output_type": "execute_result"
    }
   ],
   "source": [
    "def subtrair(n1, n2):\n",
    "    return n1 - n2\n",
    "\n",
    "subtrair(5, 9)"
   ]
  },
  {
   "cell_type": "code",
   "execution_count": 17,
   "metadata": {},
   "outputs": [
    {
     "data": {
      "text/plain": [
       "6"
      ]
     },
     "execution_count": 17,
     "metadata": {},
     "output_type": "execute_result"
    }
   ],
   "source": [
    "# exemplo : função calculadora\n",
    "\n",
    "def calcula_soma(n1, n2):\n",
    "    return n1 + n2\n",
    "\n",
    "def calcula_subtracao(n1, n2):\n",
    "    return n1 - n2\n",
    "\n",
    "def calcula_multiplicacao(n1, n2):\n",
    "    return n1 * n2\n",
    "\n",
    "def calcula_divisao(n1, n2):\n",
    "    return n1 / n2\n",
    "\n",
    "def calcular_operarao(n1, n2, op):\n",
    "    '''\n",
    "    - n1 (float)\n",
    "    - n2 (float)\n",
    "    - op (str) : indicando a operação a ser feita [\"+\", \"-\", \"*\", \"/\"]\n",
    "    '''\n",
    "\n",
    "    if op == \"+\":\n",
    "        resp = calcula_soma(n1, n2)\n",
    "    elif op == \"-\":\n",
    "        resp = calcula_subtracao(n1, n2)\n",
    "    elif op == \"*\":\n",
    "        resp = calcula_multiplicacao(n1, n2)\n",
    "    elif op == \"/\":\n",
    "        resp = calcula_divisao(n1, n2)\n",
    "    else:\n",
    "        raise ValueError(f\"A operação ({op}) não é valida!\")\n",
    "\n",
    "    return resp\n",
    "    \n",
    "\n",
    "calcular_operarao(2, 3, \"*\")\n"
   ]
  }
 ],
 "metadata": {
  "kernelspec": {
   "display_name": "Python 3",
   "language": "python",
   "name": "python3"
  },
  "language_info": {
   "codemirror_mode": {
    "name": "ipython",
    "version": 3
   },
   "file_extension": ".py",
   "mimetype": "text/x-python",
   "name": "python",
   "nbconvert_exporter": "python",
   "pygments_lexer": "ipython3",
   "version": "3.12.2"
  }
 },
 "nbformat": 4,
 "nbformat_minor": 2
}
