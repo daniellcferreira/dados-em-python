{
 "cells": [
  {
   "cell_type": "code",
   "execution_count": 1,
   "metadata": {},
   "outputs": [
    {
     "data": {
      "text/plain": [
       "'PYTHON'"
      ]
     },
     "execution_count": 1,
     "metadata": {},
     "output_type": "execute_result"
    }
   ],
   "source": [
    "# funções com strings\n",
    "\n",
    "curso = \"Python\"\n",
    "\n",
    "curso.upper()  # upper() : coloca todos caracteres em maiuscula"
   ]
  },
  {
   "cell_type": "code",
   "execution_count": 3,
   "metadata": {},
   "outputs": [
    {
     "data": {
      "text/plain": [
       "'Python'"
      ]
     },
     "execution_count": 3,
     "metadata": {},
     "output_type": "execute_result"
    }
   ],
   "source": [
    "curso.lower()  # lower() : coloca todos caracteres em minusculas\n",
    "\n",
    "curso.title()"
   ]
  },
  {
   "cell_type": "code",
   "execution_count": 4,
   "metadata": {},
   "outputs": [
    {
     "data": {
      "text/plain": [
       "['Bem', 'vindos', 'ao', 'Curso', 'de', 'Python']"
      ]
     },
     "execution_count": 4,
     "metadata": {},
     "output_type": "execute_result"
    }
   ],
   "source": [
    "saudacao = \"Bem vindos ao Curso de Python\"\n",
    "\n",
    "saudacao.split()"
   ]
  },
  {
   "cell_type": "code",
   "execution_count": 5,
   "metadata": {},
   "outputs": [
    {
     "data": {
      "text/plain": [
       "'Bem vindos ao Curso de Python'"
      ]
     },
     "execution_count": 5,
     "metadata": {},
     "output_type": "execute_result"
    }
   ],
   "source": [
    "saudacao1 = \"            Bem vindos ao Curso de Python      \"\n",
    "\n",
    "saudacao1.strip()"
   ]
  },
  {
   "cell_type": "code",
   "execution_count": 7,
   "metadata": {},
   "outputs": [
    {
     "data": {
      "text/plain": [
       "'Bem vindos ao Curso de Python'"
      ]
     },
     "execution_count": 7,
     "metadata": {},
     "output_type": "execute_result"
    }
   ],
   "source": [
    "saudacao1 = \"            Bem   vindos ao   Curso de   Python      \"\n",
    "\n",
    "lista_saudacao = saudacao1.split()\n",
    "\" \".join(lista_saudacao)\n"
   ]
  },
  {
   "cell_type": "code",
   "execution_count": 10,
   "metadata": {},
   "outputs": [
    {
     "name": "stdout",
     "output_type": "stream",
     "text": [
      "01/02/2020\n"
     ]
    }
   ],
   "source": [
    "# formatação de strings\n",
    "\n",
    "dia, mes, ano = 1, 2, 2020\n",
    "\n",
    "string_data = \"{:02d}/{:02d}/{:04d}\".format(dia, mes, ano)\n",
    "\n",
    "print(string_data)"
   ]
  },
  {
   "cell_type": "code",
   "execution_count": 11,
   "metadata": {},
   "outputs": [
    {
     "data": {
      "text/plain": [
       "'1499.50'"
      ]
     },
     "execution_count": 11,
     "metadata": {},
     "output_type": "execute_result"
    }
   ],
   "source": [
    "# formatação com float\n",
    "\n",
    "preco = 1499.50\n",
    "\n",
    "\"{:.2f}\".format(preco)"
   ]
  },
  {
   "cell_type": "code",
   "execution_count": 12,
   "metadata": {},
   "outputs": [
    {
     "data": {
      "text/plain": [
       "'Preço R$ 1499.50'"
      ]
     },
     "execution_count": 12,
     "metadata": {},
     "output_type": "execute_result"
    }
   ],
   "source": [
    "f\"Preço R$ {preco:.2f}\""
   ]
  },
  {
   "cell_type": "code",
   "execution_count": 14,
   "metadata": {},
   "outputs": [
    {
     "name": "stdout",
     "output_type": "stream",
     "text": [
      "Estado civil: D\n"
     ]
    }
   ],
   "source": [
    "# Exemplo 1\n",
    "\n",
    "estado_civil = input(\"Digite seu estado civil (opcões possiveis: S, C, D, V)\").upper()\n",
    "\n",
    "while estado_civil not in [\"S\", \"C\", \"D\", \"V\"]:\n",
    "    estado_civil = input(\"Resposta Invalida! Digite seu estado civil (opcões possiveis: S, C, D, V)\").upper()  \n",
    "\n",
    "print(f\"Estado civil: {estado_civil}\")  "
   ]
  }
 ],
 "metadata": {
  "kernelspec": {
   "display_name": "Python 3",
   "language": "python",
   "name": "python3"
  },
  "language_info": {
   "codemirror_mode": {
    "name": "ipython",
    "version": 3
   },
   "file_extension": ".py",
   "mimetype": "text/x-python",
   "name": "python",
   "nbconvert_exporter": "python",
   "pygments_lexer": "ipython3",
   "version": "3.12.2"
  }
 },
 "nbformat": 4,
 "nbformat_minor": 2
}
