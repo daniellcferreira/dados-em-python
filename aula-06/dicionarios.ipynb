{
 "cells": [
  {
   "cell_type": "code",
   "execution_count": 1,
   "metadata": {},
   "outputs": [
    {
     "data": {
      "text/plain": [
       "{'nomes': ['jose', 'maria', 'pedro'],\n",
       " 'idades': [20, 30, 15],\n",
       " 'cidades': ['sp', 'rj', 'sa']}"
      ]
     },
     "execution_count": 1,
     "metadata": {},
     "output_type": "execute_result"
    }
   ],
   "source": [
    "# exemplo 1\n",
    "\n",
    "cadastro = {\"nomes\": [\"jose\", \"maria\", \"pedro\"],\n",
    "            \"idades\": [20, 30, 15],\n",
    "            \"cidades\": [\"sp\", \"rj\", \"sa\"]}\n",
    "\n",
    "cadastro"
   ]
  },
  {
   "cell_type": "code",
   "execution_count": 4,
   "metadata": {},
   "outputs": [
    {
     "data": {
      "text/plain": [
       "['jose', 'maria', 'pedro']"
      ]
     },
     "execution_count": 4,
     "metadata": {},
     "output_type": "execute_result"
    }
   ],
   "source": [
    "cadastro[\"nomes\"]"
   ]
  },
  {
   "cell_type": "code",
   "execution_count": 5,
   "metadata": {},
   "outputs": [
    {
     "data": {
      "text/plain": [
       "{'nomes': ['jose', 'maria', 'pedro'],\n",
       " 'idades': [20, 30, 15],\n",
       " 'cidades': ['sp', 'rj', 'sa'],\n",
       " 'altura': [1.85, 1.72, 1.66]}"
      ]
     },
     "execution_count": 5,
     "metadata": {},
     "output_type": "execute_result"
    }
   ],
   "source": [
    "# adiocionado um nova chave no dicionario\n",
    "\n",
    "cadastro[\"altura\"] = [1.85, 1.72, 1.66]\n",
    "cadastro"
   ]
  },
  {
   "cell_type": "code",
   "execution_count": 6,
   "metadata": {},
   "outputs": [],
   "source": [
    "cadastro[\"altura2\"] = [1.85, 1.72, 1.66]\n",
    "cadastro[\"altura3\"] = [1.85, 1.72, 1.66]"
   ]
  },
  {
   "cell_type": "code",
   "execution_count": 7,
   "metadata": {},
   "outputs": [
    {
     "data": {
      "text/plain": [
       "{'nomes': ['jose', 'maria', 'pedro'],\n",
       " 'idades': [20, 30, 15],\n",
       " 'cidades': ['sp', 'rj', 'sa'],\n",
       " 'altura': [1.85, 1.72, 1.66],\n",
       " 'altura3': [1.85, 1.72, 1.66]}"
      ]
     },
     "execution_count": 7,
     "metadata": {},
     "output_type": "execute_result"
    }
   ],
   "source": [
    "# apagando chaves do dicionario\n",
    "\n",
    "cadastro.pop(\"altura2\")\n",
    "cadastro"
   ]
  },
  {
   "cell_type": "code",
   "execution_count": 8,
   "metadata": {},
   "outputs": [
    {
     "data": {
      "text/plain": [
       "{'nomes': ['jose', 'maria', 'pedro'],\n",
       " 'idades': [20, 30, 15],\n",
       " 'cidades': ['sp', 'rj', 'sa'],\n",
       " 'altura': [1.85, 1.72, 1.66]}"
      ]
     },
     "execution_count": 8,
     "metadata": {},
     "output_type": "execute_result"
    }
   ],
   "source": [
    "del cadastro[\"altura3\"]\n",
    "cadastro"
   ]
  },
  {
   "cell_type": "code",
   "execution_count": 10,
   "metadata": {},
   "outputs": [
    {
     "data": {
      "text/plain": [
       "{'nomes': ['jose', 'maria', 'pedro'],\n",
       " 'idades': [20, 30, 15],\n",
       " 'cidades': ['sp', 'jp', 'sa'],\n",
       " 'altura': [1.85, 1.72, 1.66]}"
      ]
     },
     "execution_count": 10,
     "metadata": {},
     "output_type": "execute_result"
    }
   ],
   "source": [
    "# alterar valores no dicionario\n",
    "\n",
    "cadastro[\"cidades\"][1] = \"jp\"\n",
    "cadastro"
   ]
  },
  {
   "cell_type": "code",
   "execution_count": 12,
   "metadata": {},
   "outputs": [
    {
     "data": {
      "text/plain": [
       "{'nomes': ['jose', 'maria', 'pedro', 'joaquim', 'joaquim'],\n",
       " 'idades': [20, 30, 15, 18],\n",
       " 'cidades': ['sp', 'jp', 'sa', 'al'],\n",
       " 'altura': [1.85, 1.72, 1.66, 1.87]}"
      ]
     },
     "execution_count": 12,
     "metadata": {},
     "output_type": "execute_result"
    }
   ],
   "source": [
    "# adionando novo elemento\n",
    "\n",
    "cadastro[\"nomes\"].append(\"joaquim\")\n",
    "cadastro[\"idades\"].append(18)\n",
    "cadastro[\"cidades\"].append(\"al\")\n",
    "cadastro[\"altura\"].append(1.87)\n",
    "\n",
    "cadastro"
   ]
  },
  {
   "cell_type": "code",
   "execution_count": 13,
   "metadata": {},
   "outputs": [
    {
     "name": "stdout",
     "output_type": "stream",
     "text": [
      "nomes\n",
      "idades\n",
      "cidades\n",
      "altura\n"
     ]
    }
   ],
   "source": [
    "# iterando com dicionario\n",
    "\n",
    "for elemento in cadastro:\n",
    "    print(elemento)"
   ]
  },
  {
   "cell_type": "code",
   "execution_count": 14,
   "metadata": {},
   "outputs": [
    {
     "data": {
      "text/plain": [
       "['pedro', 15, 'sa', 1.66]"
      ]
     },
     "execution_count": 14,
     "metadata": {},
     "output_type": "execute_result"
    }
   ],
   "source": [
    "lista_info = []\n",
    "\n",
    "for chave in cadastro:\n",
    "    lista_info.append(cadastro[chave][2])\n",
    "\n",
    "lista_info"
   ]
  }
 ],
 "metadata": {
  "kernelspec": {
   "display_name": "Python 3",
   "language": "python",
   "name": "python3"
  },
  "language_info": {
   "codemirror_mode": {
    "name": "ipython",
    "version": 3
   },
   "file_extension": ".py",
   "mimetype": "text/x-python",
   "name": "python",
   "nbconvert_exporter": "python",
   "pygments_lexer": "ipython3",
   "version": "3.12.2"
  }
 },
 "nbformat": 4,
 "nbformat_minor": 2
}
