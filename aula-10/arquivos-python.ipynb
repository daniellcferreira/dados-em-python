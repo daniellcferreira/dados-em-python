{
 "cells": [
  {
   "cell_type": "code",
   "execution_count": 3,
   "metadata": {},
   "outputs": [],
   "source": [
    "# criando/escrevendo arquivos\n",
    "\n",
    "arquivo = open(\"olá_mundo.txt\", \"w\", encoding=\"utf-8\")\n",
    "\n",
    "arquivo.write(\"olá, mundo!\")\n",
    "\n",
    "arquivo.close()"
   ]
  },
  {
   "cell_type": "code",
   "execution_count": 9,
   "metadata": {},
   "outputs": [],
   "source": [
    "novo_arquivo = open(\"olá_mundo2.txt\", \"w\", encoding=\"utf-8\")\n",
    "\n",
    "novo_arquivo.write(\"olá, mundo!\")\n",
    "\n",
    "novo_arquivo.close()"
   ]
  },
  {
   "cell_type": "code",
   "execution_count": 11,
   "metadata": {},
   "outputs": [],
   "source": [
    "# criando arquivo com with\n",
    "\n",
    "with open(\"exemplo_1.txt\", \"w\", encoding=\"utf-8\") as f1:\n",
    "\n",
    "    f1.write(\"Exemplo 1 de arquivo criado!\")"
   ]
  },
  {
   "cell_type": "code",
   "execution_count": 12,
   "metadata": {},
   "outputs": [],
   "source": [
    "# modificando arquivo\n",
    "\n",
    "with open(\"olá_mundo.txt\", \"r+\", encoding=\"utf-8\") as f1:\n",
    "\n",
    "    f1.write(\"escrendo algo novo!\")"
   ]
  },
  {
   "cell_type": "code",
   "execution_count": 13,
   "metadata": {},
   "outputs": [],
   "source": [
    "# modificando arquivo com append \"a\"\n",
    "\n",
    "with open(\"olá_mundo.txt\", \"a\", encoding=\"utf-8\") as f1:\n",
    "\n",
    "    f1.write(\"Escrendo algo novo!\")"
   ]
  },
  {
   "cell_type": "code",
   "execution_count": 14,
   "metadata": {},
   "outputs": [],
   "source": [
    "# exemplo 2\n",
    "\n",
    "lista = [\"ada\", 1, 42.2, True, [\"a\", \"b\", \"c\"]]\n",
    "\n",
    "with open(\"olá_mundo.txt\", \"a\", encoding=\"utf-8\") as f1:\n",
    "\n",
    "    for elemento in lista:\n",
    "\n",
    "        f1.write(f\"\\n{elemento}\")"
   ]
  },
  {
   "cell_type": "code",
   "execution_count": 16,
   "metadata": {},
   "outputs": [
    {
     "data": {
      "text/plain": [
       "\"escrendo algo novo!Escrendo algo novo!\\nada\\n1\\n42.2\\nTrue\\n['a', 'b', 'c']\""
      ]
     },
     "execution_count": 16,
     "metadata": {},
     "output_type": "execute_result"
    }
   ],
   "source": [
    "# leitura de arquivos\n",
    "\n",
    "with open(\"olá_mundo.txt\", \"r\", encoding=\"utf-8\") as f1:\n",
    "\n",
    "    conteudo = f1.read()\n",
    "\n",
    "conteudo"
   ]
  },
  {
   "cell_type": "code",
   "execution_count": 24,
   "metadata": {},
   "outputs": [],
   "source": [
    "notas = [8, 9, 8.5, 10, 10, 6, 7.5, 6.5]\n",
    "\n",
    "with open(\"notas.txt\", \"w\", encoding=\"utf-8\") as f:\n",
    "\n",
    "    f.write(f\"{notas[0]}\")\n",
    "\n",
    "    for elemento in notas[1:]:\n",
    "\n",
    "        f.write(f\"\\n{elemento}\")"
   ]
  },
  {
   "cell_type": "code",
   "execution_count": 25,
   "metadata": {},
   "outputs": [
    {
     "data": {
      "text/plain": [
       "[8.0, 9.0, 8.5, 10.0, 10.0, 6.0, 7.5, 6.5]"
      ]
     },
     "execution_count": 25,
     "metadata": {},
     "output_type": "execute_result"
    }
   ],
   "source": [
    "with open(\"notas.txt\", \"r\", encoding=\"utf-8\") as f:\n",
    "\n",
    "    conteudo = f.read()\n",
    "\n",
    "notas_lista = conteudo.split(\"\\n\")\n",
    "\n",
    "notas_lidas = []\n",
    "\n",
    "for elemento in notas_lista:\n",
    "\n",
    "    notas_lidas.append(float(elemento))\n",
    "\n",
    "notas_lidas"
   ]
  },
  {
   "cell_type": "code",
   "execution_count": 26,
   "metadata": {},
   "outputs": [
    {
     "data": {
      "text/plain": [
       "8.1875"
      ]
     },
     "execution_count": 26,
     "metadata": {},
     "output_type": "execute_result"
    }
   ],
   "source": [
    "sum(notas_lidas) / len(notas_lidas)"
   ]
  }
 ],
 "metadata": {
  "kernelspec": {
   "display_name": "Python 3",
   "language": "python",
   "name": "python3"
  },
  "language_info": {
   "codemirror_mode": {
    "name": "ipython",
    "version": 3
   },
   "file_extension": ".py",
   "mimetype": "text/x-python",
   "name": "python",
   "nbconvert_exporter": "python",
   "pygments_lexer": "ipython3",
   "version": "3.12.2"
  }
 },
 "nbformat": 4,
 "nbformat_minor": 2
}
