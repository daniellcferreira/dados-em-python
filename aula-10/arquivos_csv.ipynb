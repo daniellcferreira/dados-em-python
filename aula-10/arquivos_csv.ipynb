{
 "cells": [
  {
   "cell_type": "code",
   "execution_count": 1,
   "metadata": {},
   "outputs": [
    {
     "data": {
      "text/plain": [
       "[['Aluno', 'Nota 1', 'Nota 2', 'Presença'],\n",
       " ['Luke', 7, 9, 75],\n",
       " ['Han', 4, 7, 100],\n",
       " ['Leia', 9, 9, 50]]"
      ]
     },
     "execution_count": 1,
     "metadata": {},
     "output_type": "execute_result"
    }
   ],
   "source": [
    "tabela = [['Aluno', 'Nota 1', 'Nota 2', 'Presença'],\n",
    "          ['Luke', 7, 9, 75],\n",
    "          ['Han', 4, 7, 100],\n",
    "          ['Leia', 9, 9, 50]]\n",
    "\n",
    "tabela"
   ]
  },
  {
   "cell_type": "code",
   "execution_count": 2,
   "metadata": {},
   "outputs": [],
   "source": [
    "import csv"
   ]
  },
  {
   "cell_type": "code",
   "execution_count": 4,
   "metadata": {},
   "outputs": [],
   "source": [
    "with open(\"alunos.csv\", \"w\", encoding=\"utf-8\") as f:\n",
    "\n",
    "    csv.writer(f, delimiter=\",\", lineterminator=\"\\n\").writerows(tabela)"
   ]
  },
  {
   "cell_type": "code",
   "execution_count": 5,
   "metadata": {},
   "outputs": [
    {
     "data": {
      "text/plain": [
       "[['Aluno', 'Nota 1', 'Nota 2', 'Presença'],\n",
       " ['Luke', '7', '9', '75'],\n",
       " ['Han', '4', '7', '100'],\n",
       " ['Leia', '9', '9', '50']]"
      ]
     },
     "execution_count": 5,
     "metadata": {},
     "output_type": "execute_result"
    }
   ],
   "source": [
    "with open(\"alunos.csv\", \"r\", encoding=\"utf-8\") as f:\n",
    "\n",
    "    tabela_lida = []\n",
    "\n",
    "    leitor = csv.reader(f, delimiter=\",\", lineterminator=\"\\n\")\n",
    "\n",
    "    for linha in leitor:\n",
    "\n",
    "        tabela_lida.append(linha)\n",
    "\n",
    "tabela_lida"
   ]
  },
  {
   "cell_type": "code",
   "execution_count": 17,
   "metadata": {},
   "outputs": [
    {
     "data": {
      "text/plain": [
       "5.5"
      ]
     },
     "execution_count": 17,
     "metadata": {},
     "output_type": "execute_result"
    }
   ],
   "source": [
    "# Processando dados\n",
    "\n",
    "aluno = \"Han\"\n",
    "\n",
    "dados_aluno = tabela_lida[[linha[0] for linha in tabela_lida].index(aluno)]\n",
    "\n",
    "n1 = float(dados_aluno[1])\n",
    "n2 = float(dados_aluno[2])\n",
    "\n",
    "media = float(n1 + n2) / 2\n",
    "\n",
    "media\n",
    "\n"
   ]
  }
 ],
 "metadata": {
  "kernelspec": {
   "display_name": "Python 3",
   "language": "python",
   "name": "python3"
  },
  "language_info": {
   "codemirror_mode": {
    "name": "ipython",
    "version": 3
   },
   "file_extension": ".py",
   "mimetype": "text/x-python",
   "name": "python",
   "nbconvert_exporter": "python",
   "pygments_lexer": "ipython3",
   "version": "3.12.2"
  }
 },
 "nbformat": 4,
 "nbformat_minor": 2
}
